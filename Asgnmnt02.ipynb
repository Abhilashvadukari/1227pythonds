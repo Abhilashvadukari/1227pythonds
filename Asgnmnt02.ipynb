{
  "nbformat": 4,
  "nbformat_minor": 0,
  "metadata": {
    "colab": {
      "provenance": [],
      "authorship_tag": "ABX9TyOu8tIohCJgAKH7uFTx3Tc+",
      "include_colab_link": true
    },
    "kernelspec": {
      "name": "python3",
      "display_name": "Python 3"
    },
    "language_info": {
      "name": "python"
    }
  },
  "cells": [
    {
      "cell_type": "markdown",
      "metadata": {
        "id": "view-in-github",
        "colab_type": "text"
      },
      "source": [
        "<a href=\"https://colab.research.google.com/github/Abhilashvadukari/1227pythonds/blob/main/Asgnmnt02.ipynb\" target=\"_parent\"><img src=\"https://colab.research.google.com/assets/colab-badge.svg\" alt=\"Open In Colab\"/></a>"
      ]
    },
    {
      "cell_type": "code",
      "execution_count": 1,
      "metadata": {
        "colab": {
          "base_uri": "https://localhost:8080/"
        },
        "id": "SMxf2OK_TWaB",
        "outputId": "e05e310a-9593-4dad-ffed-5b734b0e44aa"
      },
      "outputs": [
        {
          "output_type": "stream",
          "name": "stdout",
          "text": [
            "Array:\n",
            " [[66 69 84 69]\n",
            " [58 70 90 73]\n",
            " [59 59 77 73]\n",
            " [71 86 89 64]]\n",
            "\n",
            "Row-wise Mean: [72.   72.75 67.   77.5 ]\n",
            "Column-wise Mean: [63.5  71.   85.   69.75]\n",
            "\n",
            "Row-wise Median: [69.  71.5 66.  78.5]\n",
            "Column-wise Median: [62.5 69.5 86.5 71. ]\n",
            "\n",
            "Row-wise Std Dev: [ 7.03562364 11.43186337  8.1240384  10.35615759]\n",
            "Column-wise Std Dev: [5.31507291 9.6695398  5.14781507 3.69966215]\n",
            "\n",
            "Global Max: 90 at index (np.int64(1), np.int64(2))\n",
            "Global Min: 58 at index (np.int64(1), np.int64(0))\n"
          ]
        }
      ],
      "source": [
        "import numpy as np\n",
        "\n",
        "arr = np.random.randint(50, 100, size=(4,4))\n",
        "print(\"Array:\\n\", arr)\n",
        "\n",
        "\n",
        "print(\"\\nRow-wise Mean:\", np.mean(arr, axis=1))\n",
        "print(\"Column-wise Mean:\", np.mean(arr, axis=0))\n",
        "\n",
        "print(\"\\nRow-wise Median:\", np.median(arr, axis=1))\n",
        "print(\"Column-wise Median:\", np.median(arr, axis=0))\n",
        "\n",
        "print(\"\\nRow-wise Std Dev:\", np.std(arr, axis=1))\n",
        "print(\"Column-wise Std Dev:\", np.std(arr, axis=0))\n",
        "\n",
        "\n",
        "global_max = arr.max()\n",
        "global_min = arr.min()\n",
        "max_idx = np.unravel_index(arr.argmax(), arr.shape)\n",
        "min_idx = np.unravel_index(arr.argmin(), arr.shape)\n",
        "\n",
        "print(\"\\nGlobal Max:\", global_max, \"at index\", max_idx)\n",
        "print(\"Global Min:\", global_min, \"at index\", min_idx)\n"
      ]
    }
  ]
}