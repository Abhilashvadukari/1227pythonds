{
  "nbformat": 4,
  "nbformat_minor": 0,
  "metadata": {
    "colab": {
      "provenance": [],
      "authorship_tag": "ABX9TyPa0A1AoZ1//hsHnT841QJa",
      "include_colab_link": true
    },
    "kernelspec": {
      "name": "python3",
      "display_name": "Python 3"
    },
    "language_info": {
      "name": "python"
    }
  },
  "cells": [
    {
      "cell_type": "markdown",
      "metadata": {
        "id": "view-in-github",
        "colab_type": "text"
      },
      "source": [
        "<a href=\"https://colab.research.google.com/github/Abhilashvadukari/1227pythonds/blob/main/labprogrms02.ipynb\" target=\"_parent\"><img src=\"https://colab.research.google.com/assets/colab-badge.svg\" alt=\"Open In Colab\"/></a>"
      ]
    },
    {
      "cell_type": "code",
      "execution_count": null,
      "metadata": {
        "colab": {
          "base_uri": "https://localhost:8080/"
        },
        "id": "_cdZo3FwuIxP",
        "outputId": "271d6607-c021-428a-deff-0c03b0f09e70"
      },
      "outputs": [
        {
          "output_type": "stream",
          "name": "stdout",
          "text": [
            "[12, 34, 56, 77, 29]\n",
            "[12, 34, 56, 77]\n",
            "[12, 34, 25, 56, 77]\n",
            "[12, 25, 56, 77]\n"
          ]
        }
      ],
      "source": [
        "list =[12,34,56,77]\n",
        "list.append(29)\n",
        "print(list)\n",
        "list.pop()\n",
        "print(list)\n",
        "list.insert(2,25)\n",
        "print(list)\n",
        "list.remove(34)\n",
        "print(list)\n",
        "\n"
      ]
    },
    {
      "cell_type": "code",
      "source": [
        "l=[\"cse\",\"abhi\",\"anoop\"]\n",
        "#l.insert(2,25)\n",
        "\n",
        "#print(l)\n",
        "l.sort()\n",
        "print(l)\n",
        "l.reverse()\n",
        "print(l)\n",
        "\n",
        "for i in l:\n",
        "  print(i)\n",
        "if \"cse\" in l:\n",
        "  print(\"cse is present\")\n",
        "else:\n",
        "  print(\"cse is not present\")\n",
        "\n"
      ],
      "metadata": {
        "colab": {
          "base_uri": "https://localhost:8080/"
        },
        "id": "xVzIhDRYucqf",
        "outputId": "5b7ea3a2-ee80-411d-fb15-17f14c281de6"
      },
      "execution_count": null,
      "outputs": [
        {
          "output_type": "stream",
          "name": "stdout",
          "text": [
            "['abhi', 'anoop', 'cse']\n",
            "['cse', 'anoop', 'abhi']\n",
            "cse\n",
            "anoop\n",
            "abhi\n",
            "cse is present\n"
          ]
        }
      ]
    },
    {
      "cell_type": "code",
      "source": [
        "l=[1,3,445,32,23]\n",
        "l.sort()\n",
        "print(l)\n",
        "l.reverse()\n",
        "print(l)\n",
        "print(max(l))\n",
        "print(min(l))\n",
        "print(sum(l))\n",
        "print(l[0:3])"
      ],
      "metadata": {
        "colab": {
          "base_uri": "https://localhost:8080/"
        },
        "id": "jCNEAx35vQdk",
        "outputId": "24b244b7-b474-4908-a113-9d478ef4a9e8"
      },
      "execution_count": null,
      "outputs": [
        {
          "output_type": "stream",
          "name": "stdout",
          "text": [
            "[1, 3, 23, 32, 445]\n",
            "[445, 32, 23, 3, 1]\n",
            "445\n",
            "1\n",
            "504\n",
            "[445, 32, 23]\n"
          ]
        }
      ]
    },
    {
      "cell_type": "code",
      "source": [
        "l=[1,9.9,\"cse\"]\n",
        "print(l)\n",
        "for i in l:\n",
        "  print(type(i),i)"
      ],
      "metadata": {
        "colab": {
          "base_uri": "https://localhost:8080/"
        },
        "id": "kO5oNGfqxTQR",
        "outputId": "b6958b60-5449-4a1e-c8a5-a8dc01fbdc15"
      },
      "execution_count": null,
      "outputs": [
        {
          "output_type": "stream",
          "name": "stdout",
          "text": [
            "[1, 9.9, 'cse']\n",
            "<class 'int'> 1\n",
            "<class 'float'> 9.9\n",
            "<class 'str'> cse\n"
          ]
        }
      ]
    },
    {
      "cell_type": "code",
      "source": [
        "l=[1,22,3,3,3,4]\n",
        "print(l)"
      ],
      "metadata": {
        "colab": {
          "base_uri": "https://localhost:8080/"
        },
        "id": "jH9-XQv4xxaq",
        "outputId": "4be0fdef-b32c-44f1-ead1-5c91f0d147e3"
      },
      "execution_count": null,
      "outputs": [
        {
          "output_type": "stream",
          "name": "stdout",
          "text": [
            "[1, 22, 3, 3, 3, 4]\n"
          ]
        }
      ]
    },
    {
      "cell_type": "code",
      "source": [
        "student=[[10,20,30],[20,30,40],[12,23,45],[45,67,89],[12,65,66]]\n",
        "print(student)"
      ],
      "metadata": {
        "colab": {
          "base_uri": "https://localhost:8080/"
        },
        "id": "UqnKVn2my8Xt",
        "outputId": "eb157a7c-c1b3-441c-dc2d-4ec73bdf17b9"
      },
      "execution_count": null,
      "outputs": [
        {
          "output_type": "stream",
          "name": "stdout",
          "text": [
            "[[10, 20, 30], [20, 30, 40], [12, 23, 45], [45, 67, 89], [12, 65, 66]]\n"
          ]
        }
      ]
    },
    {
      "cell_type": "code",
      "source": [
        "t=(10,20,30)\n",
        "print(t)\n",
        "t1=(\"cse\",90,1)\n",
        "print(l)\n",
        "for i in t1:\n",
        "  print(i)\n",
        "if \"cse\" in t1:\n",
        "  print(\"cse is present\")\n",
        "else:\n",
        "  print(\"cse is not present\")\n",
        "for i in t1:\n",
        "  print(type(i),(1))\n"
      ],
      "metadata": {
        "colab": {
          "base_uri": "https://localhost:8080/"
        },
        "id": "hrmFnyhezqgQ",
        "outputId": "a072fb6c-258e-4224-883f-cbbe0147ff60"
      },
      "execution_count": null,
      "outputs": [
        {
          "output_type": "stream",
          "name": "stdout",
          "text": [
            "(10, 20, 30)\n",
            "[1, 22, 3, 3, 3, 4]\n",
            "cse\n",
            "90\n",
            "1\n",
            "cse is present\n",
            "<class 'str'> 1\n",
            "<class 'int'> 1\n",
            "<class 'int'> 1\n"
          ]
        }
      ]
    },
    {
      "cell_type": "code",
      "source": [
        "t=(10,20,30,30,30)\n",
        "print(t.count(30))\n",
        "print(t)\n",
        "print(t.index(30))"
      ],
      "metadata": {
        "colab": {
          "base_uri": "https://localhost:8080/"
        },
        "id": "PmhGHsfv0tsY",
        "outputId": "81578fbd-d90d-4412-b012-7b8e1cbbb836"
      },
      "execution_count": null,
      "outputs": [
        {
          "output_type": "stream",
          "name": "stdout",
          "text": [
            "3\n",
            "(10, 20, 30, 30, 30)\n",
            "2\n"
          ]
        }
      ]
    },
    {
      "cell_type": "code",
      "source": [
        "t=(10,20,30,40)\n",
        "myt=tuple(l)\n",
        "print(myt)"
      ],
      "metadata": {
        "colab": {
          "base_uri": "https://localhost:8080/"
        },
        "id": "s0ZTKbHq0_--",
        "outputId": "dba6cc3b-b764-4f68-9647-c19ecedd5d3a"
      },
      "execution_count": null,
      "outputs": [
        {
          "output_type": "stream",
          "name": "stdout",
          "text": [
            "(1, 22, 3, 3, 3, 4)\n"
          ]
        }
      ]
    },
    {
      "cell_type": "code",
      "source": [
        "student={\"name\":\"cse\",\"batch\":\"01\",\"college\":\"sru\"}\n",
        "print(student.keys())\n",
        "print(student.values())\n",
        "print(student.items())\n",
        "print(student[\"name\"])\n",
        "print(student.get(\"college\"))\n",
        "for key,value in student.items():\n",
        "  print(key,\":\",value)\n",
        "student[\"college\"]=\"Kits\"\n",
        "print(student)\n",
        "student[\"branch\"]=\"ece\"\n",
        "print(student)\n",
        "del student[\"branch\"]\n",
        "print(student)\n",
        "if \"name\" in student.items():\n",
        "  print(\"name is present\")\n",
        "else:\n",
        "  print(\"name is not present\")\n"
      ],
      "metadata": {
        "colab": {
          "base_uri": "https://localhost:8080/"
        },
        "id": "8SYDBtRx1-K1",
        "outputId": "3aed369e-17cf-4658-e4f6-937b1182a1be"
      },
      "execution_count": null,
      "outputs": [
        {
          "output_type": "stream",
          "name": "stdout",
          "text": [
            "dict_keys(['name', 'batch', 'college'])\n",
            "dict_values(['cse', '01', 'sru'])\n",
            "dict_items([('name', 'cse'), ('batch', '01'), ('college', 'sru')])\n",
            "cse\n",
            "sru\n",
            "name : cse\n",
            "batch : 01\n",
            "college : sru\n",
            "{'name': 'cse', 'batch': '01', 'college': 'Kits'}\n",
            "{'name': 'cse', 'batch': '01', 'college': 'Kits', 'branch': 'ece'}\n",
            "{'name': 'cse', 'batch': '01', 'college': 'Kits'}\n",
            "name is not present\n"
          ]
        }
      ]
    },
    {
      "cell_type": "code",
      "source": [
        "student={'1':{\"name\":\"cse\",\"marks\":\"unknown\"},\n",
        "         '2':{\"name\":\"ece\",\"marks\":\"unknown\"}}\n",
        "print(student.items())\n",
        "print(student['2']['name'])"
      ],
      "metadata": {
        "colab": {
          "base_uri": "https://localhost:8080/"
        },
        "id": "Rj5zklZ15fiy",
        "outputId": "2f5f2a0e-a707-41c9-d950-be86b69fc685"
      },
      "execution_count": null,
      "outputs": [
        {
          "output_type": "stream",
          "name": "stdout",
          "text": [
            "dict_items([('1', {'name': 'cse', 'marks': 'unknown'}), ('2', {'name': 'ece', 'marks': 'unknown'})])\n",
            "ece\n"
          ]
        }
      ]
    },
    {
      "cell_type": "code",
      "source": [
        "student={\"name\":\"cse\",\"marks\":\"unknown\",\"brnch\":\"cse\"}\n",
        "print(student)\n"
      ],
      "metadata": {
        "colab": {
          "base_uri": "https://localhost:8080/"
        },
        "id": "3Rm8QuJd7HWn",
        "outputId": "c31ef0b0-1b8e-4d6f-eee1-80ca0b8ee216"
      },
      "execution_count": null,
      "outputs": [
        {
          "output_type": "stream",
          "name": "stdout",
          "text": [
            "{'name': 'cse', 'marks': 'unknown', 'brnch': 'cse'}\n"
          ]
        }
      ]
    },
    {
      "cell_type": "code",
      "source": [
        "s={1,2,3,3,4,5}\n",
        "print(s)\n",
        "s.add(6)\n",
        "print(s)\n",
        "s.remove(5)\n",
        "print(s)\n",
        "for i in s:\n",
        "  print(i)\n",
        "if '2' in s:\n",
        "  print(\"s\")\n",
        "else:\n",
        "  print(\"no\")"
      ],
      "metadata": {
        "colab": {
          "base_uri": "https://localhost:8080/"
        },
        "id": "-CqNmlfB8JXS",
        "outputId": "12cbd28a-7425-4e24-e284-5c5623a79eb1"
      },
      "execution_count": null,
      "outputs": [
        {
          "output_type": "stream",
          "name": "stdout",
          "text": [
            "{1, 2, 3, 4, 5}\n",
            "{1, 2, 3, 4, 5, 6}\n",
            "{1, 2, 3, 4, 6}\n",
            "1\n",
            "2\n",
            "3\n",
            "4\n",
            "6\n",
            "no\n"
          ]
        }
      ]
    },
    {
      "cell_type": "code",
      "source": [
        "A={1,2,3,4}\n",
        "B={4,5,6,7}\n",
        "print(A.union(B))\n",
        "print(A.intersection(B))\n",
        "print(A.difference(B))\n",
        "print(A.symmetric_difference(B))\n"
      ],
      "metadata": {
        "colab": {
          "base_uri": "https://localhost:8080/"
        },
        "id": "74eKrzek9PP3",
        "outputId": "309f2050-09fd-4074-f624-c75b67b26ab4"
      },
      "execution_count": null,
      "outputs": [
        {
          "output_type": "stream",
          "name": "stdout",
          "text": [
            "{1, 2, 3, 4, 5, 6, 7}\n",
            "{4}\n",
            "{1, 2, 3}\n",
            "{1, 2, 3, 5, 6, 7}\n"
          ]
        }
      ]
    }
  ]
}