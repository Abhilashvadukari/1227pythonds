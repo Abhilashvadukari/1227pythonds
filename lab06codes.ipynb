{
  "nbformat": 4,
  "nbformat_minor": 0,
  "metadata": {
    "colab": {
      "provenance": [],
      "authorship_tag": "ABX9TyNj9yT2vDTRy5ne02SDtvue",
      "include_colab_link": true
    },
    "kernelspec": {
      "name": "python3",
      "display_name": "Python 3"
    },
    "language_info": {
      "name": "python"
    }
  },
  "cells": [
    {
      "cell_type": "markdown",
      "metadata": {
        "id": "view-in-github",
        "colab_type": "text"
      },
      "source": [
        "<a href=\"https://colab.research.google.com/github/Abhilashvadukari/1227pythonds/blob/main/lab06codes.ipynb\" target=\"_parent\"><img src=\"https://colab.research.google.com/assets/colab-badge.svg\" alt=\"Open In Colab\"/></a>"
      ]
    },
    {
      "cell_type": "code",
      "execution_count": 2,
      "metadata": {
        "colab": {
          "base_uri": "https://localhost:8080/",
          "height": 226
        },
        "id": "8zTW44VIA6NR",
        "outputId": "ce1a2751-3154-4584-f450-7a8d45fb4ab3"
      },
      "outputs": [
        {
          "output_type": "stream",
          "name": "stdout",
          "text": [
            "    Name   Age  Marks\n",
            "0   Ravi  24.0   85.0\n",
            "1   Neha   NaN   90.0\n",
            "2  Kiran  30.0    NaN\n",
            "3   sita  28.0   92.0\n",
            "check for missing values\n",
            "    Name    Age  Marks\n",
            "0  False  False  False\n",
            "1  False   True  False\n",
            "2  False  False   True\n",
            "3  False  False  False\n"
          ]
        },
        {
          "output_type": "execute_result",
          "data": {
            "text/plain": [
              "'print(\"fill missing values\")\\ndf.fillna(0,inplace=True)\\nprint(df)'"
            ],
            "application/vnd.google.colaboratory.intrinsic+json": {
              "type": "string"
            }
          },
          "metadata": {},
          "execution_count": 2
        }
      ],
      "source": [
        "import pandas as pd\n",
        "import numpy as np\n",
        "data={\n",
        "    \"Name\":[\"Ravi\",\n",
        "            \"Neha\",\"Kiran\",\"sita\"],\n",
        "  \"Age\":[24,np.nan,30,28],\n",
        "    \"Marks\":[85,90,np.nan,92]\n",
        "}\n",
        "df=pd.DataFrame(data)\n",
        "print(df)\n",
        "print(\"check for missing values\")\n",
        "print(df.isnull())\n",
        "'''print(\"fill missing values\")\n",
        "df.fillna(0,inplace=True)\n",
        "print(df)'''"
      ]
    },
    {
      "cell_type": "code",
      "source": [
        "dropped=df.dropna()\n",
        "print(\"After dropped\")\n",
        "print(dropped)"
      ],
      "metadata": {
        "colab": {
          "base_uri": "https://localhost:8080/"
        },
        "id": "VOrpyyK9DZhh",
        "outputId": "8810f0a5-d5be-45b8-c230-8c4a17dc9d43"
      },
      "execution_count": 3,
      "outputs": [
        {
          "output_type": "stream",
          "name": "stdout",
          "text": [
            "After dropped\n",
            "   Name   Age  Marks\n",
            "0  Ravi  24.0   85.0\n",
            "3  sita  28.0   92.0\n"
          ]
        }
      ]
    },
    {
      "cell_type": "code",
      "source": [
        "df=df.fillna(0)\n",
        "print(\"filled with 0\")\n",
        "print(df)"
      ],
      "metadata": {
        "colab": {
          "base_uri": "https://localhost:8080/"
        },
        "id": "P8H3N7lFEE5S",
        "outputId": "77896161-a445-4da5-fa77-bf4c2b2c2ea3"
      },
      "execution_count": 6,
      "outputs": [
        {
          "output_type": "stream",
          "name": "stdout",
          "text": [
            "filled with 0\n",
            "    Name   Age  Marks\n",
            "0   Ravi  24.0   85.0\n",
            "1   Neha   0.0   90.0\n",
            "2  Kiran  30.0    0.0\n",
            "3   sita  28.0   92.0\n"
          ]
        }
      ]
    },
    {
      "cell_type": "code",
      "source": [
        "df['Age'].fillna(df['Age'].mean(),inplace=True)\n",
        "print(df)"
      ],
      "metadata": {
        "colab": {
          "base_uri": "https://localhost:8080/"
        },
        "id": "MzovI2JgEN5E",
        "outputId": "e679fbf2-8597-436e-e194-e815f0fc2f9c"
      },
      "execution_count": 10,
      "outputs": [
        {
          "output_type": "stream",
          "name": "stdout",
          "text": [
            "    Name   Age  Marks\n",
            "0   Ravi  24.0   85.0\n",
            "1   Neha   0.0   90.0\n",
            "2  Kiran  30.0    0.0\n",
            "3   sita  28.0   92.0\n"
          ]
        }
      ]
    },
    {
      "cell_type": "code",
      "source": [
        "#df=pd.dataframe(data)\n",
        "#print(df)\n",
        "df_no=df.drop_duplicates()\n",
        "print(\"after dropping duplicates\")\n",
        "print(df_no)"
      ],
      "metadata": {
        "colab": {
          "base_uri": "https://localhost:8080/"
        },
        "id": "sAYG6VUJFP4L",
        "outputId": "2664d803-a6a1-407f-94a5-7e0124f05101"
      },
      "execution_count": 13,
      "outputs": [
        {
          "output_type": "stream",
          "name": "stdout",
          "text": [
            "after dropping duplicates\n",
            "    Name   Age  Marks\n",
            "0   Ravi  24.0   85.0\n",
            "1   Neha   0.0   90.0\n",
            "2  Kiran  30.0    0.0\n",
            "3   sita  28.0   92.0\n"
          ]
        }
      ]
    },
    {
      "cell_type": "code",
      "source": [
        "#df['D']=pd.to_numeric(df['D'])\n",
        "df['Age']=pd.to_numeric(df['Age'])\n",
        "print(df.dtypes)"
      ],
      "metadata": {
        "colab": {
          "base_uri": "https://localhost:8080/"
        },
        "id": "KCU0eoZmHQU-",
        "outputId": "1a603cbb-fb03-49b5-ab95-f6e52c859e76"
      },
      "execution_count": 15,
      "outputs": [
        {
          "output_type": "stream",
          "name": "stdout",
          "text": [
            "Name      object\n",
            "Age      float64\n",
            "Marks    float64\n",
            "dtype: object\n"
          ]
        }
      ]
    },
    {
      "cell_type": "code",
      "source": [
        "df[\"Marks\"]=df[\"Marks\"].apply(lambda x: x+5)\n",
        "print(\"after applying lambda function\")\n",
        "print(df)"
      ],
      "metadata": {
        "colab": {
          "base_uri": "https://localhost:8080/"
        },
        "id": "HxF1rjR6Iqpm",
        "outputId": "b49bce3c-0537-489c-eecc-a93422c3170e"
      },
      "execution_count": 17,
      "outputs": [
        {
          "output_type": "stream",
          "name": "stdout",
          "text": [
            "after applying lambda function\n",
            "    Name   Age  Marks\n",
            "0   Ravi  24.0   90.0\n",
            "1   Neha   0.0   95.0\n",
            "2  Kiran  30.0    5.0\n",
            "3   sita  28.0   97.0\n"
          ]
        }
      ]
    },
    {
      "cell_type": "code",
      "source": [
        "df[\"Marks_Normalize\"]=(df[\"Marks\"]-df[\"Marks\"].min())/(df[\"Marks\"].max()-df[\"Marks\"].min())\n",
        "print(df)"
      ],
      "metadata": {
        "colab": {
          "base_uri": "https://localhost:8080/"
        },
        "id": "Jsl5miADJG97",
        "outputId": "b8f60afd-3400-40f4-f334-f2751ce624da"
      },
      "execution_count": 18,
      "outputs": [
        {
          "output_type": "stream",
          "name": "stdout",
          "text": [
            "    Name   Age  Marks  Marks_Normalize\n",
            "0   Ravi  24.0   90.0         0.923913\n",
            "1   Neha   0.0   95.0         0.978261\n",
            "2  Kiran  30.0    5.0         0.000000\n",
            "3   sita  28.0   97.0         1.000000\n"
          ]
        }
      ]
    }
  ]
}