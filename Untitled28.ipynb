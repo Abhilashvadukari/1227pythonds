{
  "nbformat": 4,
  "nbformat_minor": 0,
  "metadata": {
    "colab": {
      "provenance": [],
      "authorship_tag": "ABX9TyOYS9x5wVlhWLw7N90G9/hl",
      "include_colab_link": true
    },
    "kernelspec": {
      "name": "python3",
      "display_name": "Python 3"
    },
    "language_info": {
      "name": "python"
    }
  },
  "cells": [
    {
      "cell_type": "markdown",
      "metadata": {
        "id": "view-in-github",
        "colab_type": "text"
      },
      "source": [
        "<a href=\"https://colab.research.google.com/github/Abhilashvadukari/1227pythonds/blob/main/Untitled28.ipynb\" target=\"_parent\"><img src=\"https://colab.research.google.com/assets/colab-badge.svg\" alt=\"Open In Colab\"/></a>"
      ]
    },
    {
      "cell_type": "code",
      "execution_count": 1,
      "metadata": {
        "colab": {
          "base_uri": "https://localhost:8080/"
        },
        "id": "xmPpO3Zy7YVz",
        "outputId": "2720f8c7-97b3-4ac4-f417-364fcb601604"
      },
      "outputs": [
        {
          "output_type": "stream",
          "name": "stdout",
          "text": [
            "Matrix A:\n",
            " [[3 9 2]\n",
            " [1 9 1]\n",
            " [1 7 9]]\n",
            "Matrix B:\n",
            " [[ 1  6  1]\n",
            " [ 6  9  6]\n",
            " [ 9  3 10]]\n",
            "\n",
            "Addition (A + B):\n",
            " [[ 4 15  3]\n",
            " [ 7 18  7]\n",
            " [10 10 19]]\n",
            "\n",
            "Subtraction (A - B):\n",
            " [[ 2  3  1]\n",
            " [-5  0 -5]\n",
            " [-8  4 -1]]\n",
            "\n",
            "Verification for element (0,0): 3 + 1 = 4\n",
            "Verification for element (0,0): 3 - 1 = 2\n"
          ]
        }
      ],
      "source": [
        "import numpy as np\n",
        "\n",
        "\n",
        "A = np.random.randint(1, 11, size=(3, 3))\n",
        "B = np.random.randint(1, 11, size=(3, 3))\n",
        "\n",
        "\n",
        "add_result = np.add(A, B)\n",
        "sub_result = np.subtract(A, B)\n",
        "\n",
        "print(\"Matrix A:\\n\", A)\n",
        "print(\"Matrix B:\\n\", B)\n",
        "print(\"\\nAddition (A + B):\\n\", add_result)\n",
        "print(\"\\nSubtraction (A - B):\\n\", sub_result)\n",
        "\n",
        "\n",
        "row, col = 0, 0\n",
        "print(f\"\\nVerification for element (0,0): {A[row][col]} + {B[row][col]} = {add_result[row][col]}\")\n",
        "print(f\"Verification for element (0,0): {A[row][col]} - {B[row][col]} = {sub_result[row][col]}\")"
      ]
    },
    {
      "cell_type": "code",
      "source": [
        "import numpy as np\n",
        "\n",
        "\n",
        "A = np.random.randint(1, 10, (3, 2))\n",
        "B = np.random.randint(1, 10, (2, 3))\n",
        "\n",
        "print(\"Matrix A (3x2):\\n\", A)\n",
        "print(\"Matrix B (2x3):\\n\", B)\n",
        "\n",
        "\n",
        "C = np.dot(A, B)\n",
        "print(\"\\nDot Product Result (3x3):\\n\", C)\n",
        "\n",
        "\n",
        "\n",
        "manual_calc = A[0][0] * B[0][0] + A[0][1] * B[1][0]\n",
        "print(f\"\\nManual calculation for C[0][0]: {manual_calc}\")\n"
      ],
      "metadata": {
        "colab": {
          "base_uri": "https://localhost:8080/"
        },
        "id": "eOguDZ8BAV9b",
        "outputId": "649e001c-49d6-498b-d8ad-f02736d91173"
      },
      "execution_count": 3,
      "outputs": [
        {
          "output_type": "stream",
          "name": "stdout",
          "text": [
            "Matrix A (3x2):\n",
            " [[3 4]\n",
            " [6 5]\n",
            " [4 6]]\n",
            "Matrix B (2x3):\n",
            " [[5 7 6]\n",
            " [8 9 3]]\n",
            "\n",
            "Dot Product Result (3x3):\n",
            " [[47 57 30]\n",
            " [70 87 51]\n",
            " [68 82 42]]\n",
            "\n",
            "Manual calculation for C[0][0]: 47\n"
          ]
        }
      ]
    }
  ]
}