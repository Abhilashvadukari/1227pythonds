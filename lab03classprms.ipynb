{
  "nbformat": 4,
  "nbformat_minor": 0,
  "metadata": {
    "colab": {
      "provenance": [],
      "authorship_tag": "ABX9TyPS0yEkrCLQ+gRgkmhrhx+Z",
      "include_colab_link": true
    },
    "kernelspec": {
      "name": "python3",
      "display_name": "Python 3"
    },
    "language_info": {
      "name": "python"
    }
  },
  "cells": [
    {
      "cell_type": "markdown",
      "metadata": {
        "id": "view-in-github",
        "colab_type": "text"
      },
      "source": [
        "<a href=\"https://colab.research.google.com/github/Abhilashvadukari/1227pythonds/blob/main/lab03classprms.ipynb\" target=\"_parent\"><img src=\"https://colab.research.google.com/assets/colab-badge.svg\" alt=\"Open In Colab\"/></a>"
      ]
    },
    {
      "cell_type": "code",
      "execution_count": 36,
      "metadata": {
        "colab": {
          "base_uri": "https://localhost:8080/"
        },
        "id": "UPrLdk-stf1W",
        "outputId": "db3270b7-51b2-40ab-b14a-7565ac3ccc1c"
      },
      "outputs": [
        {
          "output_type": "stream",
          "name": "stdout",
          "text": [
            "data  written succeesfully\n"
          ]
        }
      ],
      "source": [
        "fp=open(\"myexample.txt\",\"w\")\n",
        "fp.write(\"batch1 to 6\")\n",
        "fp.write(  \" cse\\n\")\n",
        "fp.write(  \"  sr university\")\n",
        "fp.close()\n",
        "print(\"data  written succeesfully\")"
      ]
    },
    {
      "cell_type": "code",
      "source": [
        "fp=open(\"myexample.txt\",\"r\")\n",
        "content=fp.read()\n",
        "print(\"file tech\",content)\n",
        "fp.close()"
      ],
      "metadata": {
        "colab": {
          "base_uri": "https://localhost:8080/"
        },
        "id": "skFny-VSuats",
        "outputId": "0df3f0d6-b654-4610-8203-b2cc459d637c"
      },
      "execution_count": 37,
      "outputs": [
        {
          "output_type": "stream",
          "name": "stdout",
          "text": [
            "file tech batch1 to 6 cse\n",
            "  sr university\n"
          ]
        }
      ]
    },
    {
      "cell_type": "code",
      "source": [
        "fp=open(\"myexample.txt\",\"r\")\n",
        "line1=fp.readline()\n",
        "#line2=fp.readline()\n",
        "print(\"we have only one  line\\n \",line1)\n",
        "\n",
        "fp.close()"
      ],
      "metadata": {
        "colab": {
          "base_uri": "https://localhost:8080/"
        },
        "id": "XzLzQSWfvZPA",
        "outputId": "0dc0a267-c9ff-4b8f-a01f-040a5f2cdbf6"
      },
      "execution_count": 38,
      "outputs": [
        {
          "output_type": "stream",
          "name": "stdout",
          "text": [
            "we have only one  line\n",
            "  batch1 to 6 cse\n",
            "\n"
          ]
        }
      ]
    },
    {
      "cell_type": "code",
      "source": [
        "fp=open(\"myexample.txt\",\"r\")\n",
        "line1=fp.readlines()\n",
        "line2=fp.readlines()\n",
        "print(\"all lines\",line1,line2)"
      ],
      "metadata": {
        "colab": {
          "base_uri": "https://localhost:8080/"
        },
        "id": "pnE7KhwKwJUf",
        "outputId": "21cf9eb0-0129-4ca0-dddc-2c34d78eaaf3"
      },
      "execution_count": 39,
      "outputs": [
        {
          "output_type": "stream",
          "name": "stdout",
          "text": [
            "all lines ['batch1 to 6 cse\\n', '  sr university'] []\n"
          ]
        }
      ]
    },
    {
      "cell_type": "code",
      "source": [
        "fp=open(\"myexample.txt\",\"a\")\n",
        "text=fp.write(\"   students result\")\n",
        "print(\"data  written succeesfully\")\n",
        "fp.close()"
      ],
      "metadata": {
        "colab": {
          "base_uri": "https://localhost:8080/"
        },
        "id": "0SKtSw7Ew1kK",
        "outputId": "40b0cae0-6d96-4bca-ec7e-1e3b1f1fd6fc"
      },
      "execution_count": 40,
      "outputs": [
        {
          "output_type": "stream",
          "name": "stdout",
          "text": [
            "data  written succeesfully\n"
          ]
        }
      ]
    },
    {
      "cell_type": "code",
      "source": [
        "with open(\"myexample.txt\",\"r\") as fp:\n",
        "    content=fp.read()\n",
        "    print(content)"
      ],
      "metadata": {
        "colab": {
          "base_uri": "https://localhost:8080/"
        },
        "id": "PhHjqKsVx65h",
        "outputId": "6f1f1495-55d4-4c4e-b176-4832dc39f438"
      },
      "execution_count": 41,
      "outputs": [
        {
          "output_type": "stream",
          "name": "stdout",
          "text": [
            "batch1 to 6 cse\n",
            "  sr university   students result\n"
          ]
        }
      ]
    },
    {
      "cell_type": "code",
      "source": [
        "import csv\n",
        "with open(\"sales.csv\",\"w\",newline=\"\")as fp:\n",
        "  text=csv.writer(fp)\n",
        "  text.writerow([\"name\",\"Age\",\"gender\"])\n",
        "  text.writerow([\"Abhi\",\"23\",\"male\"])\n",
        "  text.writerow([\"anoop\",\"20\",\"female\"])\n",
        "  print(text)"
      ],
      "metadata": {
        "colab": {
          "base_uri": "https://localhost:8080/"
        },
        "id": "hJBkU6W-ygf8",
        "outputId": "1d461b2a-f478-43a9-a280-cb7dad730581"
      },
      "execution_count": 43,
      "outputs": [
        {
          "output_type": "stream",
          "name": "stdout",
          "text": [
            "<_csv.writer object at 0x7a51d2a0fa00>\n"
          ]
        }
      ]
    },
    {
      "cell_type": "code",
      "source": [
        "with open(\"sales.csv\",\"r\")as fp:\n",
        "  data=csv.reader(fp)\n",
        "  for row in data:\n",
        "    print(row)\n",
        ""
      ],
      "metadata": {
        "colab": {
          "base_uri": "https://localhost:8080/"
        },
        "id": "AwuqM7qHzjuz",
        "outputId": "7361c548-43e3-42aa-ba73-665b0f69d3ce"
      },
      "execution_count": 44,
      "outputs": [
        {
          "output_type": "stream",
          "name": "stdout",
          "text": [
            "['name', 'Age', 'gender']\n",
            "['Abhi', '23', 'male']\n",
            "['anoop', '20', 'female']\n"
          ]
        }
      ]
    }
  ]
}