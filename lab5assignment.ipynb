{
  "nbformat": 4,
  "nbformat_minor": 0,
  "metadata": {
    "colab": {
      "provenance": [],
      "authorship_tag": "ABX9TyM8/2AAiCIZbgFW3tyMaCXl",
      "include_colab_link": true
    },
    "kernelspec": {
      "name": "python3",
      "display_name": "Python 3"
    },
    "language_info": {
      "name": "python"
    }
  },
  "cells": [
    {
      "cell_type": "markdown",
      "metadata": {
        "id": "view-in-github",
        "colab_type": "text"
      },
      "source": [
        "<a href=\"https://colab.research.google.com/github/Abhilashvadukari/1227pythonds/blob/main/lab5assignment.ipynb\" target=\"_parent\"><img src=\"https://colab.research.google.com/assets/colab-badge.svg\" alt=\"Open In Colab\"/></a>"
      ]
    },
    {
      "cell_type": "code",
      "execution_count": 1,
      "metadata": {
        "colab": {
          "base_uri": "https://localhost:8080/"
        },
        "id": "qaEA0OabL6So",
        "outputId": "8d789ec4-d698-44b0-e197-55b90151e245"
      },
      "outputs": [
        {
          "output_type": "stream",
          "name": "stdout",
          "text": [
            "INNER MERGE RESULT:\n",
            "    sale_id  product_id  quantity product_name     category  price\n",
            "0      101           1         5       Laptop  Electronics  60000\n",
            "1      102           2        20        Mouse  Accessories    500\n",
            "2      103           2        15        Mouse  Accessories    500\n",
            "3      104           3        10     Keyboard  Accessories   1500\n",
            "4      105           4         8      Monitor  Electronics  12000\n",
            "5      106           4        12      Monitor  Electronics  12000 \n",
            "\n",
            "OUTER MERGE RESULT:\n",
            "    sale_id  product_id  quantity product_name     category  price\n",
            "0      101           1         5       Laptop  Electronics  60000\n",
            "1      102           2        20        Mouse  Accessories    500\n",
            "2      103           2        15        Mouse  Accessories    500\n",
            "3      104           3        10     Keyboard  Accessories   1500\n",
            "4      105           4         8      Monitor  Electronics  12000\n",
            "5      106           4        12      Monitor  Electronics  12000 \n",
            "\n",
            "TOTAL REVENUE: 572500\n",
            "AVERAGE PRODUCT PRICE: 18500.0 \n",
            "\n",
            "PRODUCT-WISE SALES:\n",
            "   product_name  revenue\n",
            "0     Keyboard    15000\n",
            "1       Laptop   300000\n",
            "2      Monitor   240000\n",
            "3        Mouse    17500 \n",
            "\n",
            "CATEGORY-WISE SALES:\n",
            "       category  revenue\n",
            "0  Accessories    32500\n",
            "1  Electronics   540000 \n",
            "\n",
            "BEST-SELLING CATEGORY:\n",
            " category    Electronics\n",
            "revenue          540000\n",
            "Name: 1, dtype: object \n",
            "\n",
            "KEY INSIGHTS:\n",
            "- The business generated total revenue of ₹572500.\n",
            "- Average product price is ₹18500.00.\n",
            "- The best-selling category is 'Electronics' contributing ₹540000 in revenue.\n"
          ]
        }
      ],
      "source": [
        "import pandas as pd\n",
        "\n",
        "products = pd.DataFrame({\n",
        "    \"product_id\": [1, 2, 3, 4],\n",
        "    \"product_name\": [\"Laptop\", \"Mouse\", \"Keyboard\", \"Monitor\"],\n",
        "    \"category\": [\"Electronics\", \"Accessories\", \"Accessories\", \"Electronics\"],\n",
        "    \"price\": [60000, 500, 1500, 12000]\n",
        "})\n",
        "\n",
        "sales = pd.DataFrame({\n",
        "    \"sale_id\": [101, 102, 103, 104, 105, 106],\n",
        "    \"product_id\": [1, 2, 2, 3, 4, 4],\n",
        "    \"quantity\": [5, 20, 15, 10, 8, 12]\n",
        "})\n",
        "\n",
        "inner_merge = pd.merge(sales, products, on=\"product_id\", how=\"inner\")\n",
        "outer_merge = pd.merge(sales, products, on=\"product_id\", how=\"outer\")\n",
        "\n",
        "print(\"INNER MERGE RESULT:\\n\", inner_merge, \"\\n\")\n",
        "print(\"OUTER MERGE RESULT:\\n\", outer_merge, \"\\n\")\n",
        "\n",
        "inner_merge[\"revenue\"] = inner_merge[\"quantity\"] * inner_merge[\"price\"]\n",
        "total_revenue = inner_merge[\"revenue\"].sum()\n",
        "avg_price = products[\"price\"].mean()\n",
        "product_sales = inner_merge.groupby(\"product_name\")[\"revenue\"].sum().reset_index()\n",
        "category_sales = inner_merge.groupby(\"category\")[\"revenue\"].sum().reset_index()\n",
        "best_category = category_sales.loc[category_sales[\"revenue\"].idxmax()]\n",
        "\n",
        "print(\"TOTAL REVENUE:\", total_revenue)\n",
        "print(\"AVERAGE PRODUCT PRICE:\", avg_price, \"\\n\")\n",
        "print(\"PRODUCT-WISE SALES:\\n\", product_sales, \"\\n\")\n",
        "print(\"CATEGORY-WISE SALES:\\n\", category_sales, \"\\n\")\n",
        "print(\"BEST-SELLING CATEGORY:\\n\", best_category, \"\\n\")\n",
        "\n",
        "print(\"KEY INSIGHTS:\")\n",
        "print(f\"- The business generated total revenue of ₹{total_revenue}.\")\n",
        "print(f\"- Average product price is ₹{avg_price:.2f}.\")\n",
        "print(f\"- The best-selling category is '{best_category['category']}' contributing ₹{best_category['revenue']} in revenue.\")"
      ]
    },
    {
      "cell_type": "code",
      "source": [
        "import pandas as pd\n",
        "\n",
        "teachers = pd.DataFrame({\n",
        "    \"teacher_id\": [1, 2, 3, 4],\n",
        "    \"teacher_name\": [\"Alice\", \"Bob\", \"Charlie\", \"Diana\"],\n",
        "    \"department\": [\"Math\", \"CS\", \"CS\", \"Physics\"]\n",
        "})\n",
        "\n",
        "courses = pd.DataFrame({\n",
        "    \"course_id\": [101, 102, 103, 104, 105, 106, 107],\n",
        "    \"course_name\": [\"Algebra\", \"Programming\", \"Data Structures\", \"Algorithms\", \"Quantum Physics\", \"Calculus\", \"AI\"],\n",
        "    \"teacher_id\": [1, 2, 2, 2, 4, 1, 3]\n",
        "})\n",
        "\n",
        "inner_merge = pd.merge(courses, teachers, on=\"teacher_id\", how=\"inner\")\n",
        "left_merge = pd.merge(courses, teachers, on=\"teacher_id\", how=\"left\")\n",
        "\n",
        "print(\"INNER MERGE RESULT:\\n\", inner_merge, \"\\n\")\n",
        "print(\"LEFT MERGE RESULT:\\n\", left_merge, \"\\n\")\n",
        "\n",
        "course_count = inner_merge.groupby(\"teacher_name\")[\"course_id\"].count().reset_index(name=\"num_courses\")\n",
        "avg_courses_per_teacher = course_count[\"num_courses\"].mean()\n",
        "\n",
        "dept_workload = inner_merge.groupby(\"department\")[\"course_id\"].count().reset_index(name=\"total_courses\")\n",
        "heaviest_dept = dept_workload.loc[dept_workload[\"total_courses\"].idxmax()]\n",
        "\n",
        "print(\"COURSES PER TEACHER:\\n\", course_count, \"\\n\")\n",
        "print(\"AVERAGE COURSES PER TEACHER:\", avg_courses_per_teacher, \"\\n\")\n",
        "print(\"DEPARTMENT-WISE WORKLOAD:\\n\", dept_workload, \"\\n\")\n",
        "print(\"DEPARTMENT WITH HEAVIEST WORKLOAD:\\n\", heaviest_dept, \"\\n\")\n",
        "\n",
        "print(\"KEY INSIGHTS:\")\n",
        "print(f\"- Average courses per teacher: {avg_courses_per_teacher:.2f}\")\n",
        "print(f\"- Department '{heaviest_dept['department']}' has the heaviest workload with {heaviest_dept['total_courses']} courses.\")"
      ],
      "metadata": {
        "colab": {
          "base_uri": "https://localhost:8080/"
        },
        "id": "sLImsjPYMN5J",
        "outputId": "eb5899b3-27ca-4868-e88b-83d521d91cd1"
      },
      "execution_count": 2,
      "outputs": [
        {
          "output_type": "stream",
          "name": "stdout",
          "text": [
            "INNER MERGE RESULT:\n",
            "    course_id      course_name  teacher_id teacher_name department\n",
            "0        101          Algebra           1        Alice       Math\n",
            "1        102      Programming           2          Bob         CS\n",
            "2        103  Data Structures           2          Bob         CS\n",
            "3        104       Algorithms           2          Bob         CS\n",
            "4        105  Quantum Physics           4        Diana    Physics\n",
            "5        106         Calculus           1        Alice       Math\n",
            "6        107               AI           3      Charlie         CS \n",
            "\n",
            "LEFT MERGE RESULT:\n",
            "    course_id      course_name  teacher_id teacher_name department\n",
            "0        101          Algebra           1        Alice       Math\n",
            "1        102      Programming           2          Bob         CS\n",
            "2        103  Data Structures           2          Bob         CS\n",
            "3        104       Algorithms           2          Bob         CS\n",
            "4        105  Quantum Physics           4        Diana    Physics\n",
            "5        106         Calculus           1        Alice       Math\n",
            "6        107               AI           3      Charlie         CS \n",
            "\n",
            "COURSES PER TEACHER:\n",
            "   teacher_name  num_courses\n",
            "0        Alice            2\n",
            "1          Bob            3\n",
            "2      Charlie            1\n",
            "3        Diana            1 \n",
            "\n",
            "AVERAGE COURSES PER TEACHER: 1.75 \n",
            "\n",
            "DEPARTMENT-WISE WORKLOAD:\n",
            "   department  total_courses\n",
            "0         CS              4\n",
            "1       Math              2\n",
            "2    Physics              1 \n",
            "\n",
            "DEPARTMENT WITH HEAVIEST WORKLOAD:\n",
            " department       CS\n",
            "total_courses     4\n",
            "Name: 0, dtype: object \n",
            "\n",
            "KEY INSIGHTS:\n",
            "- Average courses per teacher: 1.75\n",
            "- Department 'CS' has the heaviest workload with 4 courses.\n"
          ]
        }
      ]
    }
  ]
}