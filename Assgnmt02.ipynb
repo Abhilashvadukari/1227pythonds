{
  "nbformat": 4,
  "nbformat_minor": 0,
  "metadata": {
    "colab": {
      "provenance": [],
      "authorship_tag": "ABX9TyPWvK6OnDHSoyQrv49COe0U",
      "include_colab_link": true
    },
    "kernelspec": {
      "name": "python3",
      "display_name": "Python 3"
    },
    "language_info": {
      "name": "python"
    }
  },
  "cells": [
    {
      "cell_type": "markdown",
      "metadata": {
        "id": "view-in-github",
        "colab_type": "text"
      },
      "source": [
        "<a href=\"https://colab.research.google.com/github/Abhilashvadukari/1227pythonds/blob/main/Assgnmt02.ipynb\" target=\"_parent\"><img src=\"https://colab.research.google.com/assets/colab-badge.svg\" alt=\"Open In Colab\"/></a>"
      ]
    },
    {
      "cell_type": "code",
      "execution_count": 1,
      "metadata": {
        "colab": {
          "base_uri": "https://localhost:8080/"
        },
        "id": "IyDcpHXuTnZm",
        "outputId": "f21f0282-11c4-480f-fbcd-e5ad6eecf67e"
      },
      "outputs": [
        {
          "output_type": "stream",
          "name": "stdout",
          "text": [
            "RGB Image Array:\n",
            " [[[173 155  81]\n",
            "  [ 57  36 224]\n",
            "  [ 20  50 236]]\n",
            "\n",
            " [[ 70  56 211]\n",
            "  [ 68 192 224]\n",
            "  [153 103 148]]\n",
            "\n",
            " [[165 216   7]\n",
            "  [127  60  55]\n",
            "  [224  18 101]]]\n",
            "\n",
            "Red Channel:\n",
            " [[173  57  20]\n",
            " [ 70  68 153]\n",
            " [165 127 224]]\n",
            "Green Channel:\n",
            " [[155  36  50]\n",
            " [ 56 192 103]\n",
            " [216  60  18]]\n",
            "Blue Channel:\n",
            " [[ 81 224 236]\n",
            " [211 224 148]\n",
            " [  7  55 101]]\n",
            "\n",
            "Average Intensities - R: 117.44444444444444 G: 98.44444444444444 B: 143.0\n",
            "\n",
            "Brightened Image:\n",
            " [[[223 205 131]\n",
            "  [107  86 255]\n",
            "  [ 70 100 255]]\n",
            "\n",
            " [[120 106 255]\n",
            "  [118 242 255]\n",
            "  [203 153 198]]\n",
            "\n",
            " [[215 255  57]\n",
            "  [177 110 105]\n",
            "  [255  68 151]]]\n"
          ]
        }
      ],
      "source": [
        "import numpy as np\n",
        "\n",
        "\n",
        "img = np.random.randint(0, 256, (3,3,3))\n",
        "print(\"RGB Image Array:\\n\", img)\n",
        "\n",
        "\n",
        "red, green, blue = img[:,:,0], img[:,:,1], img[:,:,2]\n",
        "print(\"\\nRed Channel:\\n\", red)\n",
        "print(\"Green Channel:\\n\", green)\n",
        "print(\"Blue Channel:\\n\", blue)\n",
        "\n",
        "print(\"\\nAverage Intensities - R:\", red.mean(), \"G:\", green.mean(), \"B:\", blue.mean())\n",
        "\n",
        "bright_img = np.clip(img + 50, 0, 255)\n",
        "print(\"\\nBrightened Image:\\n\", bright_img)\n"
      ]
    }
  ]
}