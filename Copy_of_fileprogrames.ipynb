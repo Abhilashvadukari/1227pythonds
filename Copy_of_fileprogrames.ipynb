{
  "nbformat": 4,
  "nbformat_minor": 0,
  "metadata": {
    "colab": {
      "provenance": [],
      "authorship_tag": "ABX9TyP+H0jk7RFjyQeIP9T+UQ22",
      "include_colab_link": true
    },
    "kernelspec": {
      "name": "python3",
      "display_name": "Python 3"
    },
    "language_info": {
      "name": "python"
    }
  },
  "cells": [
    {
      "cell_type": "markdown",
      "metadata": {
        "id": "view-in-github",
        "colab_type": "text"
      },
      "source": [
        "<a href=\"https://colab.research.google.com/github/Abhilashvadukari/1227pythonds/blob/main/Copy_of_fileprogrames.ipynb\" target=\"_parent\"><img src=\"https://colab.research.google.com/assets/colab-badge.svg\" alt=\"Open In Colab\"/></a>"
      ]
    },
    {
      "cell_type": "code",
      "source": [
        "create a python script that\n",
        "takes users input for name and marks\n",
        "write it to a file\n",
        "read and display all entries"
      ],
      "metadata": {
        "id": "eXCh4t_T4nKA"
      },
      "execution_count": null,
      "outputs": []
    },
    {
      "cell_type": "code",
      "source": [
        "name = input(\"Enter student name: \")\n",
        "marks = input(\"Enter student marks: \")\n",
        "\n",
        "\n",
        "with open(\"students.txt\", \"a\") as file:\n",
        "    file.write(name + \",\" + marks + \"\\n\")\n",
        "\n",
        "\n",
        "print(\"\\nAll Entries in File:\")\n",
        "with open(\"students.txt\", \"r\") as file:\n",
        "    for line in file:\n",
        "        print(line.strip())"
      ],
      "metadata": {
        "id": "Pa0k_4jd5Pr4"
      },
      "execution_count": null,
      "outputs": []
    }
  ]
}