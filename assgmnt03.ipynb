{
  "nbformat": 4,
  "nbformat_minor": 0,
  "metadata": {
    "colab": {
      "provenance": [],
      "authorship_tag": "ABX9TyMitRusBN1Wl8qlYWtw/kmE",
      "include_colab_link": true
    },
    "kernelspec": {
      "name": "python3",
      "display_name": "Python 3"
    },
    "language_info": {
      "name": "python"
    }
  },
  "cells": [
    {
      "cell_type": "markdown",
      "metadata": {
        "id": "view-in-github",
        "colab_type": "text"
      },
      "source": [
        "<a href=\"https://colab.research.google.com/github/Abhilashvadukari/1227pythonds/blob/main/assgmnt03.ipynb\" target=\"_parent\"><img src=\"https://colab.research.google.com/assets/colab-badge.svg\" alt=\"Open In Colab\"/></a>"
      ]
    },
    {
      "cell_type": "code",
      "execution_count": 2,
      "metadata": {
        "colab": {
          "base_uri": "https://localhost:8080/"
        },
        "id": "8GgmrhpmUMv4",
        "outputId": "1d318fb4-c5e9-4e48-fb1d-7f00775efa82"
      },
      "outputs": [
        {
          "output_type": "stream",
          "name": "stdout",
          "text": [
            "Sales Data:\n",
            "    OrderID Product  Quantity  Price  TotalSale  Discount\n",
            "0        1  Laptop         2  50000     100000   10000.0\n",
            "1        2   Phone         5  20000     100000   10000.0\n",
            "2        3  Tablet         3  15000      45000       0.0\n",
            "3        4   Phone        10  20000     200000   20000.0\n",
            "4        5  Laptop         1  50000      50000       0.0\n",
            "\n",
            "Filtered Orders:\n",
            "    OrderID Product  Quantity  Price  TotalSale\n",
            "0        1  Laptop         2  50000     100000\n",
            "1        2   Phone         5  20000     100000\n",
            "2        3  Tablet         3  15000      45000\n",
            "3        4   Phone        10  20000     200000\n",
            "4        5  Laptop         1  50000      50000\n",
            "\n",
            "Most Sold Product: Phone\n"
          ]
        }
      ],
      "source": [
        "import pandas as pd\n",
        "\n",
        "\n",
        "data = {\n",
        "    'OrderID': [1,2,3,4,5],\n",
        "    'Product': ['Laptop','Phone','Tablet','Phone','Laptop'],\n",
        "    'Quantity': [2,5,3,10,1],\n",
        "    'Price': [50000,20000,15000,20000,50000]\n",
        "}\n",
        "df = pd.DataFrame(data)\n",
        "\n",
        "\n",
        "df['TotalSale'] = df['Quantity'] * df['Price']\n",
        "\n",
        "\n",
        "filtered = df[df['TotalSale'] > 1000]\n",
        "\n",
        "\n",
        "most_sold = df.groupby('Product')['Quantity'].sum().idxmax()\n",
        "\n",
        "\n",
        "df['Discount'] = df['TotalSale'].apply(lambda x: x*0.1 if x>50000 else 0)\n",
        "\n",
        "\n",
        "df.to_excel(\"sales_summary.xlsx\", index=False)\n",
        "\n",
        "print(\"Sales Data:\\n\", df)\n",
        "print(\"\\nFiltered Orders:\\n\", filtered)\n",
        "print(\"\\nMost Sold Product:\", most_sold)"
      ]
    }
  ]
}