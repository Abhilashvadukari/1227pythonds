{
  "nbformat": 4,
  "nbformat_minor": 0,
  "metadata": {
    "colab": {
      "provenance": [],
      "authorship_tag": "ABX9TyOShqHpjZ71+avVPbq9N1Fx",
      "include_colab_link": true
    },
    "kernelspec": {
      "name": "python3",
      "display_name": "Python 3"
    },
    "language_info": {
      "name": "python"
    }
  },
  "cells": [
    {
      "cell_type": "markdown",
      "metadata": {
        "id": "view-in-github",
        "colab_type": "text"
      },
      "source": [
        "<a href=\"https://colab.research.google.com/github/Abhilashvadukari/1227pythonds/blob/main/Assignment01.ipynb\" target=\"_parent\"><img src=\"https://colab.research.google.com/assets/colab-badge.svg\" alt=\"Open In Colab\"/></a>"
      ]
    },
    {
      "cell_type": "code",
      "execution_count": 1,
      "metadata": {
        "colab": {
          "base_uri": "https://localhost:8080/"
        },
        "id": "8qsPU0RDSYhA",
        "outputId": "d31ab5d1-b7d1-4b33-dbf4-d52c5c45e5bb"
      },
      "outputs": [
        {
          "output_type": "stream",
          "name": "stdout",
          "text": [
            "Recursive(10) = 3628800, Time = 0.00009227, Memory = 28 bytes\n",
            "Iterative(10) = 3628800, Time = 0.00008249, Memory = 28 bytes\n",
            "\n",
            "Summary:\n",
            "Approach\tTime(sec)\tMemory(bytes)\n",
            "Recursive\t0.00009227\t28\n",
            "Iterative\t0.00008249\t28\n"
          ]
        }
      ],
      "source": [
        "import time\n",
        "import sys\n",
        "\n",
        "\n",
        "def factorial_recursive(n):\n",
        "    if n < 0:\n",
        "        return \"Invalid Input\"\n",
        "    if n == 0 or n == 1:\n",
        "        return 1\n",
        "    return n * factorial_recursive(n-1)\n",
        "\n",
        "\n",
        "def factorial_iterative(n):\n",
        "    if n < 0:\n",
        "        return \"Invalid Input\"\n",
        "    result = 1\n",
        "    for i in range(2, n+1):\n",
        "        result *= i\n",
        "    return result\n",
        "\n",
        "\n",
        "n = 10\n",
        "start = time.time()\n",
        "rec_result = factorial_recursive(n)\n",
        "rec_time = time.time() - start\n",
        "\n",
        "start = time.time()\n",
        "iter_result = factorial_iterative(n)\n",
        "iter_time = time.time() - start\n",
        "\n",
        "\n",
        "rec_mem = sys.getsizeof(factorial_recursive(n))\n",
        "iter_mem = sys.getsizeof(factorial_iterative(n))\n",
        "\n",
        "print(f\"Recursive({n}) = {rec_result}, Time = {rec_time:.8f}, Memory = {rec_mem} bytes\")\n",
        "print(f\"Iterative({n}) = {iter_result}, Time = {iter_time:.8f}, Memory = {iter_mem} bytes\")\n",
        "\n",
        "\n",
        "print(\"\\nSummary:\")\n",
        "print(\"Approach\\tTime(sec)\\tMemory(bytes)\")\n",
        "print(f\"Recursive\\t{rec_time:.8f}\\t{rec_mem}\")\n",
        "print(f\"Iterative\\t{iter_time:.8f}\\t{iter_mem}\")\n"
      ]
    }
  ]
}